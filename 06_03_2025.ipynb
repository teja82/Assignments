{
  "nbformat": 4,
  "nbformat_minor": 0,
  "metadata": {
    "colab": {
      "provenance": [],
      "authorship_tag": "ABX9TyOpVd8LWqeDkBY1GqAMYDix",
      "include_colab_link": true
    },
    "kernelspec": {
      "name": "python3",
      "display_name": "Python 3"
    },
    "language_info": {
      "name": "python"
    }
  },
  "cells": [
    {
      "cell_type": "markdown",
      "metadata": {
        "id": "view-in-github",
        "colab_type": "text"
      },
      "source": [
        "<a href=\"https://colab.research.google.com/github/teja82/Assignments/blob/main/06_03_2025.ipynb\" target=\"_parent\"><img src=\"https://colab.research.google.com/assets/colab-badge.svg\" alt=\"Open In Colab\"/></a>"
      ]
    },
    {
      "cell_type": "code",
      "source": [
        "import nltk\n",
        "import re\n",
        "from nltk.chat.util import Chat,reflections"
      ],
      "metadata": {
        "id": "bQGoB1Jr3CUj"
      },
      "execution_count": 1,
      "outputs": []
    },
    {
      "cell_type": "code",
      "source": [
        "nltk.download('punkt')\n",
        "nltk.download('averaged_perceptron_tagger')"
      ],
      "metadata": {
        "colab": {
          "base_uri": "https://localhost:8080/"
        },
        "id": "7kqv-6VH3l1k",
        "outputId": "b4803cb7-555c-48ad-8a15-63a027df9be4"
      },
      "execution_count": 2,
      "outputs": [
        {
          "output_type": "stream",
          "name": "stderr",
          "text": [
            "[nltk_data] Downloading package punkt to /root/nltk_data...\n",
            "[nltk_data]   Package punkt is already up-to-date!\n",
            "[nltk_data] Downloading package averaged_perceptron_tagger to\n",
            "[nltk_data]     /root/nltk_data...\n",
            "[nltk_data]   Package averaged_perceptron_tagger is already up-to-\n",
            "[nltk_data]       date!\n"
          ]
        },
        {
          "output_type": "execute_result",
          "data": {
            "text/plain": [
              "True"
            ]
          },
          "metadata": {},
          "execution_count": 2
        }
      ]
    },
    {
      "cell_type": "code",
      "execution_count": 6,
      "metadata": {
        "id": "oYbstGgq2eYG"
      },
      "outputs": [],
      "source": [
        "pairs = [\n",
        "[r\"my name is ( .* )\", [\"Hello %1, how can I assist you today?\" ]],\n",
        "[r\"hi|hey|hello\", [\"Hello, how can I help you?\", \"Hey there! What can I do for you?\", \"Hi! How can I assist you today?\"]],\n",
        "[r\"what is your name?\", [\"I am a chatbot created to assist you. You can call me Chatbot.\", ]],\n",
        "[r\"how are you?\", [\"I'm a bot, so I don't have feelings, but I'm here to help you!\", ]],\n",
        "[r\"can you help me with ( .* )\", [\"Sure, I can help you with %1. Please provide more details.\", ]],\n",
        "[r\"sorry ( .* )\", [\"It's okay. How can I assist you?\", ]],\n",
        "[r\"thank you|thanks\", [\"You're welcome!\", \"No problem!\", \"Happy to help!\"]],\n",
        "[r\"quit\", [\"Bye! Have a great day!\", \"Goodbye!\"]],\n",
        "[r\"best places ( .* )\", [\"Hyderabad\", \"Banglore\", \"Vizag\", \"Mumbai\"]],\n",
        "[r\"( .* )\", [\"I'm sorry, I don't understand that. Can you rephrase?\",\"Could you please elaborate on that?\"]],\n",
        "[r\"(golden temple.*)\",[\"It is in amritsar in India.\"]]]"
      ]
    },
    {
      "cell_type": "code",
      "source": [
        "class RBChatbot:\n",
        "  def __init__(self, pairs):\n",
        "    self.chat=Chat(pairs, reflections)\n",
        "  def respond(self, user_input):\n",
        "    return self.chat.respond(user_input)\n",
        "chatbot=RBChatbot(pairs)"
      ],
      "metadata": {
        "id": "5WdWgpX23TFL"
      },
      "execution_count": 7,
      "outputs": []
    },
    {
      "cell_type": "code",
      "source": [
        "def chat_with_bot():\n",
        "  print(\"Hi, I'm your chatbot. Type 'quit' to exit.\")\n",
        "  while True:\n",
        "    user_input = input(\"You: \")\n",
        "    if user_input.lower() == 'quit':\n",
        "      print(\"Chatbot: Bye! Have a great day!\")\n",
        "      break\n",
        "    response = chatbot.respond(user_input)\n",
        "    print(\"Chatbot:\", response)\n",
        "chat_with_bot()"
      ],
      "metadata": {
        "colab": {
          "base_uri": "https://localhost:8080/"
        },
        "id": "fDEZ2UcT3Wzl",
        "outputId": "fe451905-094e-419c-c624-cac522c574de"
      },
      "execution_count": 8,
      "outputs": [
        {
          "output_type": "stream",
          "name": "stdout",
          "text": [
            "Hi, I'm your chatbot. Type 'quit' to exit.\n",
            "You: hi\n",
            "Chatbot: Hi! How can I assist you today?\n",
            "You: hello\n",
            "Chatbot: Hi! How can I assist you today?\n",
            "You: hey'\n",
            "Chatbot: Hi! How can I assist you today?\n",
            "You: my name is teja\n",
            "Chatbot: None\n",
            "You: what is your name\n",
            "Chatbot: I am a chatbot created to assist you. You can call me Chatbot.\n",
            "You: what is my name\n",
            "Chatbot: None\n",
            "You: quit\n",
            "Chatbot: Bye! Have a great day!\n"
          ]
        }
      ]
    },
    {
      "cell_type": "markdown",
      "source": [
        "Q&A Transformers"
      ],
      "metadata": {
        "id": "PZoO87M8-ie2"
      }
    },
    {
      "cell_type": "code",
      "source": [
        "from transformers import BertForQuestionAnswering, BertTokenizer\n",
        "import torch\n",
        "model_name=\"deepset/bert-base-cased-squad2\"\n",
        "tokenizer=BertTokenizer.from_pretrained(model_name)\n",
        "model=BertForQuestionAnswering.from_pretrained(model_name)"
      ],
      "metadata": {
        "colab": {
          "base_uri": "https://localhost:8080/"
        },
        "id": "i9EUT1ed70AQ",
        "outputId": "7006e650-3512-4b34-da4f-21374828dbfc"
      },
      "execution_count": 12,
      "outputs": [
        {
          "output_type": "stream",
          "name": "stderr",
          "text": [
            "/usr/local/lib/python3.11/dist-packages/huggingface_hub/utils/_auth.py:94: UserWarning: \n",
            "The secret `HF_TOKEN` does not exist in your Colab secrets.\n",
            "To authenticate with the Hugging Face Hub, create a token in your settings tab (https://huggingface.co/settings/tokens), set it as secret in your Google Colab and restart your session.\n",
            "You will be able to reuse this secret in all of your notebooks.\n",
            "Please note that authentication is recommended but still optional to access public models or datasets.\n",
            "  warnings.warn(\n",
            "Some weights of the model checkpoint at deepset/bert-base-cased-squad2 were not used when initializing BertForQuestionAnswering: ['bert.pooler.dense.bias', 'bert.pooler.dense.weight']\n",
            "- This IS expected if you are initializing BertForQuestionAnswering from the checkpoint of a model trained on another task or with another architecture (e.g. initializing a BertForSequenceClassification model from a BertForPreTraining model).\n",
            "- This IS NOT expected if you are initializing BertForQuestionAnswering from the checkpoint of a model that you expect to be exactly identical (initializing a BertForSequenceClassification model from a BertForSequenceClassification model).\n"
          ]
        }
      ]
    },
    {
      "cell_type": "code",
      "source": [
        "context=\"\"\"The Eiffel Tower is a wrought-iron latticw tower on the Champ de Mars in Paris, France.\n",
        "It is named after the engineer Gustave Eiffel, whose company designed and built the tower.\"\"\"\n",
        "question=\"Who designed the Eiffel Tower?\"\n",
        "inputs=tokenizer(question, context, return_tensors=\"pt\")\n",
        "with torch.no_grad():\n",
        "    outputs=model(**inputs)\n",
        "    start_scores=outputs.start_logits\n",
        "    end_scores=outputs.end_logits"
      ],
      "metadata": {
        "id": "F8HKhCHF-rEr"
      },
      "execution_count": 13,
      "outputs": []
    },
    {
      "cell_type": "code",
      "source": [
        "start_idx=torch.argmax(start_scores)\n",
        "end_idx=torch.argmax(end_scores)+1\n",
        "answer=tokenizer.convert_tokens_to_string(tokenizer.convert_ids_to_tokens(inputs.input_ids[0][start_idx:end_idx]))\n",
        "print('Answer:',answer)\n"
      ],
      "metadata": {
        "colab": {
          "base_uri": "https://localhost:8080/"
        },
        "id": "Me2NAkoZAj-u",
        "outputId": "388d01f4-0069-4569-d459-103a4c1a6fbf"
      },
      "execution_count": 14,
      "outputs": [
        {
          "output_type": "stream",
          "name": "stdout",
          "text": [
            "Answer: Gustave Eiffel\n"
          ]
        }
      ]
    },
    {
      "cell_type": "code",
      "source": [
        "context1 =\"\"\"Coronavirus disease 2019 (COVID-19, also known as SARS-2) is a contagious disease\n",
        "caused by the coronavirus SARS-CoV-2. In January 2020, the disease spread worldwide,\n",
        "resulting in the COVID-19 pandemic.\"\"\"\n",
        "question1 = \"what is the cause for coronavirus?\"\n",
        "inputs=tokenizer(question1, context1, return_tensors=\"pt\")\n",
        "with torch.no_grad():\n",
        "    outputs=model(**inputs)\n",
        "    start_scores=outputs.start_logits\n",
        "    end_scores=outputs.end_logits"
      ],
      "metadata": {
        "id": "JfvKMoNeB0mb"
      },
      "execution_count": 15,
      "outputs": []
    },
    {
      "cell_type": "code",
      "source": [
        "start_idx=torch.argmax(start_scores)\n",
        "end_idx=torch.argmax(end_scores)+1\n",
        "answer=tokenizer.convert_tokens_to_string(tokenizer.convert_ids_to_tokens(inputs.input_ids[0][start_idx:end_idx]))\n",
        "print('Answer:',answer)"
      ],
      "metadata": {
        "colab": {
          "base_uri": "https://localhost:8080/"
        },
        "id": "HCL0s5zgDasE",
        "outputId": "e2e47c64-ebee-4d85-c026-d976396e048d"
      },
      "execution_count": 16,
      "outputs": [
        {
          "output_type": "stream",
          "name": "stdout",
          "text": [
            "Answer: SARS - CoV - 2\n"
          ]
        }
      ]
    }
  ]
}