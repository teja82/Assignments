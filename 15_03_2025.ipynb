{
  "nbformat": 4,
  "nbformat_minor": 0,
  "metadata": {
    "colab": {
      "provenance": [],
      "gpuType": "T4",
      "authorship_tag": "ABX9TyNl2Q2MfIXmpXErJ6t9QLnr",
      "include_colab_link": true
    },
    "kernelspec": {
      "name": "python3",
      "display_name": "Python 3"
    },
    "language_info": {
      "name": "python"
    },
    "accelerator": "GPU"
  },
  "cells": [
    {
      "cell_type": "markdown",
      "metadata": {
        "id": "view-in-github",
        "colab_type": "text"
      },
      "source": [
        "<a href=\"https://colab.research.google.com/github/teja82/Assignments/blob/main/15_03_2025.ipynb\" target=\"_parent\"><img src=\"https://colab.research.google.com/assets/colab-badge.svg\" alt=\"Open In Colab\"/></a>"
      ]
    },
    {
      "cell_type": "code",
      "execution_count": 1,
      "metadata": {
        "id": "cZ3pjoE57tRS"
      },
      "outputs": [],
      "source": [
        "import google.generativeai as genai\n",
        "from google.colab import userdata\n",
        "GOOGLE_API_KEY=userdata.get('GOOGLE_API_KEY')\n",
        "genai.configure(api_key=GOOGLE_API_KEY)"
      ]
    },
    {
      "cell_type": "code",
      "source": [
        "pip install PyPDF2"
      ],
      "metadata": {
        "colab": {
          "base_uri": "https://localhost:8080/"
        },
        "id": "X-zC3A9r9oX5",
        "outputId": "bee6f313-3430-4078-b27f-c8f1461f677c"
      },
      "execution_count": 2,
      "outputs": [
        {
          "output_type": "stream",
          "name": "stdout",
          "text": [
            "Collecting PyPDF2\n",
            "  Downloading pypdf2-3.0.1-py3-none-any.whl.metadata (6.8 kB)\n",
            "Downloading pypdf2-3.0.1-py3-none-any.whl (232 kB)\n",
            "\u001b[?25l   \u001b[90m━━━━━━━━━━━━━━━━━━━━━━━━━━━━━━━━━━━━━━━━\u001b[0m \u001b[32m0.0/232.6 kB\u001b[0m \u001b[31m?\u001b[0m eta \u001b[36m-:--:--\u001b[0m\r\u001b[2K   \u001b[90m━━━━━━━━━━━━━━━━━━━━━━━━━━━━━━━━━━━━━━━━\u001b[0m \u001b[32m232.6/232.6 kB\u001b[0m \u001b[31m14.7 MB/s\u001b[0m eta \u001b[36m0:00:00\u001b[0m\n",
            "\u001b[?25hInstalling collected packages: PyPDF2\n",
            "Successfully installed PyPDF2-3.0.1\n"
          ]
        }
      ]
    },
    {
      "cell_type": "code",
      "source": [
        "import PyPDF2\n",
        "def extract_text_from_pdf(pdf_path):\n",
        "  text = \"\"\n",
        "  with open(pdf_path, 'rb') as pdf_file:\n",
        "      pdf_reader = PyPDF2.PdfReader(pdf_file)\n",
        "      for page in pdf_reader.pages:\n",
        "          text += page.extract_text() +'\\n'\n",
        "  return text"
      ],
      "metadata": {
        "id": "gv8kCViSC7Kn"
      },
      "execution_count": 3,
      "outputs": []
    },
    {
      "cell_type": "code",
      "source": [
        "def extract_health_insights(text):\n",
        "  model =genai.GenerativeModel('models/gemini-2.0-flash')\n",
        "  prompt=f\"Extract key insights from the following health report:\\n\\n{text}\"\n",
        "  response =model.generate_content(prompt)\n",
        "  return response.text\n",
        "pdf_file = \"health_report.pdf\"\n",
        "extracted_text = extract_text_from_pdf(pdf_file)\n",
        "insights = extract_health_insights(extracted_text)\n",
        "print(\"Key Insights:\\n\", insights)"
      ],
      "metadata": {
        "colab": {
          "base_uri": "https://localhost:8080/",
          "height": 610
        },
        "id": "FYaJOm1Y9nTQ",
        "outputId": "c398266f-4077-4e1a-b239-5c1dc7b32016"
      },
      "execution_count": 6,
      "outputs": [
        {
          "output_type": "stream",
          "name": "stdout",
          "text": [
            "Key Insights:\n",
            " Here's a breakdown of the key insights from the health report for Mr. Kishan Goud:\n",
            "\n",
            "**Key Positives:**\n",
            "\n",
            "*   **Dengue and Malaria Negative:** Tests for Dengue (NS1, IgG, IgM) and Malaria (P.Vivax and P.Falciparum) are negative.\n",
            "*   **Kidney Function (Creatinine):** Serum Creatinine level is within the normal range.\n",
            "*   **Liver Function:** All Liver Function Tests (Bilirubin (Total, Direct, Indirect), Alkaline Phosphatase, SGOT, SGPT, Total Protein, Albumin, Globulin, A/G Ratio) are within normal limits.\n",
            "*   **Complete Blood Count (CBC):** WBC, Platelet count, and Peripheral Blood Smear (RBC, WBC, Platelets) are generally normal.\n",
            "\n",
            "**Areas of Concern:**\n",
            "\n",
            "*   **Possible Typhoid Fever (Widal Test):**  Elevated S. Typhi \"O\" and \"H\" titers suggest a possible Typhoid infection (S. Typhi \"O\" at 1:160 is significantly higher than the reference of 1:20; S. Typhi \"H\" at 1:80 is also elevated above the reference). Further confirmatory testing is likely needed.\n",
            "*   **Elevated ESR (Erythrocyte Sedimentation Rate):** Both the 1st and 2nd hour ESR readings are elevated.  This indicates inflammation in the body but is not specific to any particular disease. It's a marker of inflammation/infection and needs further investigation to determine the underlying cause.\n",
            "*   **Low Red Blood Cell Count (RBC):** RBC is slightly below the normal range.\n",
            "*   **Low Serum Sodium (Hyponatremia):** The serum sodium level is significantly below the normal range. This can be a serious issue and needs immediate attention to determine the cause and treatment.\n",
            "*   **Impaired Glucose Control (HbA1c):** The HbA1c result (5.4%) indicates that there is some issue with random blood glucose as 60-170 mg/dl is the normal level.\n",
            "\n",
            "**Other Relevant Information:**\n",
            "\n",
            "*   **Patient Demographics:** Mr. Kishan Goud, 56 years old, male.\n",
            "*   **Hospitalization:** He's an inpatient (IP Number) located in Ward 2C, Bed C203.\n",
            "*   **Doctor:** Dr. Krishna Prasad is his physician.\n",
            "\n",
            "**Recommendations:**\n",
            "\n",
            "*   **Investigate Hyponatremia:**  Determine the cause of the low serum sodium immediately.\n",
            "*   **Further Typhoid Testing:** Based on the elevated Widal titers, additional diagnostic tests for typhoid fever (e.g., blood culture) are strongly recommended to confirm the diagnosis.\n",
            "*   **Address Elevated ESR:** Investigate the source of the inflammation indicated by the high ESR.\n",
            "*   **Monitor Glucose and HbA1c:** Despite the \"Normal\" non-diabetic HbA1c, the random blood sugar results must be investigated.\n",
            "*   **Address Low RBC Count:** The slight reduction in RBC count might need further investigation.\n",
            "*   **Follow-up with Doctor:**  All results should be reviewed with Dr. Krishna Prasad for appropriate diagnosis and management.\n",
            "\n"
          ]
        }
      ]
    },
    {
      "cell_type": "code",
      "source": [
        "def summarize_health_report(text):\n",
        "  model =genai.GenerativeModel('models/gemini-2.0-flash')\n",
        "  prompt=f\"Summarize the following health report in a consise manner:\\n\\n{text}\"\n",
        "  response =model.generate_content(prompt)\n",
        "  return response.text\n",
        "summary = summarize_health_report(extracted_text)\n",
        "print(\"Summarized Report:\\n\", summary)"
      ],
      "metadata": {
        "colab": {
          "base_uri": "https://localhost:8080/",
          "height": 89
        },
        "id": "2KlY6A-nBu3Y",
        "outputId": "e94fcab1-da01-4af1-892d-a05fb8fb48f0"
      },
      "execution_count": 7,
      "outputs": [
        {
          "output_type": "stream",
          "name": "stdout",
          "text": [
            "Summarized Report:\n",
            " Mr. Kishan Goud, a 56-year-old male patient, underwent a series of tests on 01/02/2021. The results indicate a past or present Typhoid infection(S.TYPHI \" O \" 1:160 & S. TYPHI \" H \" 1:80 both above reference range of 1:20). Dengue and Malaria tests were negative. Erythrocyte Sedimentation Rate (ESR) is elevated. Complete Blood Picture is largely within normal limits, although RBC is slightly low. HbA1c is 5.4%, indicating normal glucose control. Serum Creatinine is within the normal range. Liver Function Tests are normal. Serum Sodium is low (122 mmol/l, below the reference range of 135-146 mmol/l). Serum Potassium and Chloride are within normal limits. Random Blood Glucose levels are not indicated in the report.\n",
            "\n"
          ]
        }
      ]
    },
    {
      "cell_type": "code",
      "source": [
        "def detect_abnormalities(text):\n",
        "  model =genai.GenerativeModel('models/gemini-2.0-flash')\n",
        "  prompt=f\"Analyse the lab test results in the following health report and highlight any abnormal values:\\n\\n{text}\"\n",
        "  response =model.generate_content(prompt)\n",
        "  return response.text\n",
        "abnormalities = detect_abnormalities(extracted_text)\n",
        "print(\"Potential Abnormalities:\\n\", abnormalities)"
      ],
      "metadata": {
        "colab": {
          "base_uri": "https://localhost:8080/",
          "height": 558
        },
        "id": "2MgC3V_YFM08",
        "outputId": "54d98675-aab6-40b3-eb1e-120633ce2baa"
      },
      "execution_count": 8,
      "outputs": [
        {
          "output_type": "stream",
          "name": "stdout",
          "text": [
            "Potential Abnormalities:\n",
            " Here's a breakdown of the abnormal lab values in Mr. Kishan Goud's health report:\n",
            "\n",
            "**1. WIDAL Test:**\n",
            "\n",
            "*   **S. Typhi \"O\":** 1:160 (Reference Range: 1:20) - Significantly elevated, suggesting a possible current or recent *Salmonella Typhi* infection (Typhoid Fever).\n",
            "*   **S. Typhi \"H\":** 1:80 (Reference Range: 1:20) - Elevated, suggesting a possible current or recent *Salmonella Typhi* infection (Typhoid Fever).\n",
            "\n",
            "**2. Erythrocyte Sedimentation Rate (ESR):**\n",
            "\n",
            "*   **ESR 1st Hour:** 26 mm/hr (Reference Range: 0 - 8 mm/hr) - Elevated, indicating inflammation in the body.\n",
            "*   **ESR 2nd Hour:** 52 mm/hr (No reference range given, but significantly elevated based on the 1st hour reading) - Highly elevated, indicating inflammation in the body.\n",
            "\n",
            "**3. Complete Blood Picture:**\n",
            "\n",
            "*   **RBC:** 4.3 mill/cumm (Reference Range: 4.5 - 5.5 mill/cumm) - Slightly low, indicating mild anemia.\n",
            "\n",
            "**4. Serum Electrolytes:**\n",
            "\n",
            "*   **SERUM SODIUM:** 122 mmol/l (Reference Range: 135 - 146 mmol/l) - Significantly low (Hyponatremia).\n",
            "*   **SERUM CHL ORIDE:** 97 mmol/l (Reference Range: 98 - 107 mmol/l) - Slightly low.\n",
            "\n",
            "**Important Considerations:**\n",
            "\n",
            "*   **Clinical Correlation:**  It's crucial for the doctor to interpret these results in the context of Mr. Goud's symptoms, medical history, and physical examination findings.\n",
            "*   **Repeat Testing:** Some abnormal results might warrant repeat testing to confirm the findings, especially in the case of acute conditions.\n",
            "*   **Hyponatremia:** The low sodium level is concerning and needs investigation to determine the cause.  It can be due to various factors including fluid overload, medication side effects, hormonal abnormalities, or kidney problems.\n",
            "*   **Widal Test Interpretation:** The Widal test is not the most reliable test for typhoid fever, as false positives can occur. In many settings, it's being replaced by more accurate tests like blood cultures.\n",
            "\n",
            "In summary, the most significant abnormal findings are the elevated Widal titers (suggesting typhoid fever), the elevated ESR (indicating inflammation), the slightly low RBC, and the low sodium level (hyponatremia), which needs immediate investigation.\n"
          ]
        }
      ]
    },
    {
      "cell_type": "code",
      "source": [
        "def ask_gen_about_the_report(text):\n",
        "  model =genai.GenerativeModel('models/gemini-2.0-flash')\n",
        "  prompt=f\"The following is a health report:\\n\\nAnswer the following question based on the report:\\n\\n{text}\"\n",
        "  response =model.generate_content(prompt)\n",
        "  return response.text\n",
        "answer = ask_gen_about_the_report(extracted_text)\n",
        "print(\"Answer:\\n\", answer)"
      ],
      "metadata": {
        "colab": {
          "base_uri": "https://localhost:8080/",
          "height": 69
        },
        "id": "aU5ciUqwJrOg",
        "outputId": "6083bed8-8f4f-413a-cddb-e2e348181ebf"
      },
      "execution_count": 9,
      "outputs": [
        {
          "output_type": "stream",
          "name": "stdout",
          "text": [
            "Answer:\n",
            " What is the patient's Serum Sodium level?\n",
            "\n"
          ]
        }
      ]
    },
    {
      "cell_type": "code",
      "source": [
        "def explain_medical_terms(text):\n",
        "  model =genai.GenerativeModel('models/gemini-2.0-flash')\n",
        "  prompt=f\"Explain the medical terms in the following health report in simple language:\\n\\n{text}\"\n",
        "  response =model.generate_content(prompt)\n",
        "  return response.text\n",
        "explanation = explain_medical_terms(extracted_text)\n",
        "print(\"Simplified Explanation:\\n\", explanation)"
      ],
      "metadata": {
        "colab": {
          "base_uri": "https://localhost:8080/",
          "height": 1000
        },
        "id": "Pwzmf3oWG7TX",
        "outputId": "61f3ee0b-719e-4cb1-e927-d86bb42aecb5"
      },
      "execution_count": 10,
      "outputs": [
        {
          "output_type": "stream",
          "name": "stdout",
          "text": [
            "Simplified Explanation:\n",
            " Okay, let's break down Mr. Kishan Goud's medical report in simple terms:\n",
            "\n",
            "**General Information:**\n",
            "\n",
            "*   This report is for Mr. Kishan Goud, who is about 56 years old.\n",
            "*   He is in the hospital, ward 2C, bed C203.\n",
            "*   Dr. Krishna Prasad is his doctor.\n",
            "*   The tests were ordered and the sample taken on January 2nd, 2021.\n",
            "\n",
            "**Individual Test Explanations:**\n",
            "\n",
            "1.  **WIDAL Test:**\n",
            "\n",
            "    *   This test checks for antibodies against *Salmonella Typhi* and *Paratyphi* bacteria, which cause typhoid fever and paratyphoid fever.\n",
            "    *   The results are given as dilutions (e.g., 1:160).  A higher number after the \"1:\" suggests more antibodies are present.\n",
            "    *   *S. Typhi \"O\"* (1:160) and *S. Typhi \"H\"* (1:80) are both elevated above the normal range of 1:20, which *could* indicate a current or recent typhoid infection, but further investigation is needed.  *S. Paratyphi AH* and *BH* are normal at 1:20.\n",
            "    *   **In simple terms:** This test might indicate that Mr. Goud has or recently had typhoid fever, though other tests are needed to confirm this.\n",
            "\n",
            "2.  **DENGUE SEROLOGY - NS1, IgG, IgM:**\n",
            "\n",
            "    *   This test checks for Dengue fever.\n",
            "    *   **NS1 Antigen:** Detects the Dengue virus early in the infection.\n",
            "    *   **IgG and IgM:** These are antibodies that the body produces to fight the Dengue virus.  IgM appears early in the infection, and IgG appears later and can indicate a past infection.\n",
            "    *   **Results:** All three (NS1, IgG, and IgM) are NEGATIVE.\n",
            "    *   **In simple terms:**  Mr. Goud does not currently have, and likely has not recently had, Dengue fever based on this test.\n",
            "\n",
            "3.  **ERYTHROCYTE SEDIMENTATION RATE (ESR):**\n",
            "\n",
            "    *   This test measures how quickly red blood cells settle to the bottom of a test tube.  A faster rate can indicate inflammation in the body.\n",
            "    *   **Results:** ESR 1st Hour is 26 mm/hr and ESR 2nd Hour is 52 mm/hr. The normal range is 0-8 mm/hr. Both results are elevated.\n",
            "    *   **In simple terms:** This suggests there is inflammation in Mr. Goud's body.  It doesn't pinpoint the cause, but indicates something is causing inflammation.\n",
            "\n",
            "4.  **RAPID MALARIA TEST:**\n",
            "\n",
            "    *   This test checks for malaria.\n",
            "    *   *P. vivax* and *P. falciparum* are the two common types of malaria parasites.\n",
            "    *   **Results:**  Both *P. vivax* and *P. falciparum* are NEGATIVE.\n",
            "    *   **In simple terms:** Mr. Goud does not have malaria based on this test.\n",
            "\n",
            "5.  **COMPLETE BLOOD PICTURE (CBP) / COMPLETE BLOOD COUNT (CBC):**\n",
            "\n",
            "    *   This is a common test that provides a general overview of your blood.\n",
            "    *   **HAEMOGLOBIN:**  Measures the amount of hemoglobin in red blood cells, which carries oxygen.  Mr. Goud's is 13.6 gms%, within the normal range.\n",
            "    *   **RBC:**  Red blood cell count. Mr. Goud's is 4.3 mill/cumm, slightly below the normal range of 4.5 - 5.5.\n",
            "    *   **WBC:** White blood cell count. Mr. Goud's is 7,200 cells/cumm, within the normal range.\n",
            "    *   **PLATELET COUNT:**  Measures the number of platelets, which help with blood clotting.  Mr. Goud's is 2.0 lakhs/cumm, within the normal range.\n",
            "    *   **P.C.V (Packed Cell Volume):** Percentage of blood volume that is red blood cells. Mr. Goud's is 40.5 %, within the normal range.\n",
            "    *   **DIFFERENTIAL COUNT:**  Breaks down the different types of white blood cells (Neutrophils, Lymphocytes, Eosinophils, Monocytes, Basophils).  All of Mr. Goud's values are within the normal ranges.\n",
            "    *   **PERIPHERAL BLOOD SMEAR:** A visual examination of the blood cells under a microscope.\n",
            "        *   *NORMOCYTIC/NORMOCHROMIC:* Red blood cells are of normal size and color.\n",
            "        *   *W.B.C WITHIN NORMAL LIMITS:* White blood cells appear normal.\n",
            "        *   *PLATELETS ADEQUATE:* Platelet count is sufficient.\n",
            "    *   **In simple terms:** Most of Mr. Goud's blood counts are normal. His red blood cell count is slightly low.\n",
            "\n",
            "6.  **HbA1C:**\n",
            "\n",
            "    *   This test measures your average blood sugar level over the past 2-3 months.  It's used to monitor diabetes.\n",
            "    *   **Result:** 5.4%.\n",
            "    *   **In simple terms:** Mr. Goud's HbA1c indicates normal blood sugar control and no diabetes.\n",
            "\n",
            "7.  **SERUM CREATININE:**\n",
            "\n",
            "    *   This test measures creatinine levels in the blood, which is a waste product filtered by the kidneys. It is used to assess kidney function.\n",
            "    *   **Result:** 0.8 mg/dl.\n",
            "    *   **In simple terms:** Mr. Goud's creatinine level is normal, suggesting his kidneys are functioning properly.\n",
            "\n",
            "8.  **RANDOM BLOOD GLUCOSE:**\n",
            "\n",
            "    *   This test measures the level of glucose (sugar) in your blood at the time the sample is taken.  It's a snapshot of your blood sugar.\n",
            "    *   **Result:** This section of the report is missing the actual result for the Random Blood Glucose test.\n",
            "    *   **In simple terms:** This test gives a quick check of blood sugar, and his number would need to be present to determine the results\n",
            "\n",
            "9.  **LIVER FUNCTION TEST (LFT):**\n",
            "\n",
            "    *   This is a group of tests that assess how well the liver is working.\n",
            "    *   **SERUM BILIRUBIN (TOTAL, DIRECT, INDIRECT):** Bilirubin is a yellow pigment produced during the breakdown of red blood cells.  Elevated levels can indicate liver problems. Mr. Goud's levels are normal.\n",
            "    *   **SERUM ALKALINE PHOSPHATE (ALP):** An enzyme found in the liver, bones, and other tissues. Elevated levels can indicate liver or bone problems. Mr. Goud's level is normal.\n",
            "    *   **SGOT (AST) and SGPT (ALT):**  These are liver enzymes. Elevated levels can indicate liver damage. Mr. Goud's levels are normal.\n",
            "    *   **TOTAL PROTEIN and ALBUMIN:**  Proteins produced by the liver.  Abnormal levels can indicate liver disease or other problems.  Mr. Goud's levels are normal.\n",
            "    *   **GLOBULIN:** Another type of protein in the blood.\n",
            "    *   **A/G RATIO:** Albumin/Globulin ratio.\n",
            "    *   **In simple terms:** Mr. Goud's liver function tests are within the normal range, suggesting his liver is working well.\n",
            "\n",
            "10. **SERUM ELECTROLYTES:**\n",
            "\n",
            "    *   This test measures the levels of important minerals (electrolytes) in your blood, including sodium, potassium, and chloride.  These electrolytes are important for many bodily functions, including nerve and muscle function.\n",
            "    *   **SERUM SODIUM:** Mr. Goud's sodium is 122 mmol/l, which is lower than the normal range (135-146 mmol/l). This is called hyponatremia.\n",
            "    *   **SERUM POTASSIUM:** Mr. Goud's potassium is 3.5 mmol/l, which is within the normal range.\n",
            "    *   **SERUM CHLORIDE:** Mr. Goud's chloride is 97 mmol/l, which is slightly below the normal range of 98-107 mmol/l.\n",
            "    *   **In simple terms:** Mr. Goud's sodium is low (hyponatremia), and his chloride is slightly low.\n",
            "\n",
            "**Overall Summary:**\n",
            "\n",
            "Based on this report:\n",
            "\n",
            "*   Mr. Goud *may* have typhoid, which requires further confirmation tests.\n",
            "*   He does *not* have Dengue or Malaria.\n",
            "*   He has evidence of inflammation in his body (elevated ESR).\n",
            "*   His kidney and liver function tests are mostly normal.\n",
            "*   His blood sugar is normal based on the HbA1C test.\n",
            "*   His sodium level is low (hyponatremia). His chloride is slightly low.\n",
            "*   The Random Blood Glucose is missing, so his instant blood sugar is unable to be determined.\n",
            "\n",
            "**Important Note:** This explanation is for informational purposes only and should not be considered medical advice. A doctor is needed to interpret these results in the context of Mr. Goud's overall health and symptoms and to recommend appropriate treatment. The low sodium level especially warrants further investigation.\n",
            "\n"
          ]
        }
      ]
    },
    {
      "cell_type": "code",
      "source": [],
      "metadata": {
        "id": "q6XkWM0qIQdq"
      },
      "execution_count": null,
      "outputs": []
    }
  ]
}