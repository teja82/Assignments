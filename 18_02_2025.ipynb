{
  "nbformat": 4,
  "nbformat_minor": 0,
  "metadata": {
    "colab": {
      "provenance": [],
      "authorship_tag": "ABX9TyP/+J3OeIufUWux/Hq9mnHS",
      "include_colab_link": true
    },
    "kernelspec": {
      "name": "python3",
      "display_name": "Python 3"
    },
    "language_info": {
      "name": "python"
    }
  },
  "cells": [
    {
      "cell_type": "markdown",
      "metadata": {
        "id": "view-in-github",
        "colab_type": "text"
      },
      "source": [
        "<a href=\"https://colab.research.google.com/github/teja82/Assignments/blob/main/18_02_2025.ipynb\" target=\"_parent\"><img src=\"https://colab.research.google.com/assets/colab-badge.svg\" alt=\"Open In Colab\"/></a>"
      ]
    },
    {
      "cell_type": "code",
      "execution_count": 3,
      "metadata": {
        "colab": {
          "base_uri": "https://localhost:8080/"
        },
        "id": "0ZyishfGd3kS",
        "outputId": "8c274a6b-9127-4d99-d343-cf6a4d2036a1"
      },
      "outputs": [
        {
          "output_type": "stream",
          "name": "stdout",
          "text": [
            "1.\"“The world as we have created it is a process of our thinking. It cannot be changed without changing our thinking.”\"-Albert Einstein\n",
            " Tags:change,deep-thoughts,thinking,world\n",
            "\n",
            "2.\"“It is our choices, Harry, that show what we truly are, far more than our abilities.”\"-J.K. Rowling\n",
            " Tags:abilities,choices\n",
            "\n",
            "3.\"“There are only two ways to live your life. One is as though nothing is a miracle. The other is as though everything is a miracle.”\"-Albert Einstein\n",
            " Tags:inspirational,life,live,miracle,miracles\n",
            "\n",
            "4.\"“The person, be it gentleman or lady, who has not pleasure in a good novel, must be intolerably stupid.”\"-Jane Austen\n",
            " Tags:aliteracy,books,classic,humor\n",
            "\n",
            "5.\"“Imperfection is beauty, madness is genius and it's better to be absolutely ridiculous than absolutely boring.”\"-Marilyn Monroe\n",
            " Tags:be-yourself,inspirational\n",
            "\n"
          ]
        }
      ],
      "source": [
        "import requests\n",
        "from bs4 import BeautifulSoup\n",
        "url=\"https://quotes.toscrape.com/\"\n",
        "response=requests.get(url)\n",
        "if response.status_code==200:\n",
        "  soup=BeautifulSoup(response.text,\"html.parser\")\n",
        "  quotes=soup.find_all(\"div\",class_=\"quote\")\n",
        "  for i, quote in enumerate(quotes[:5]):\n",
        "    text=quote.find(\"span\",class_=\"text\").text\n",
        "    author=quote.find(\"small\",class_=\"author\").text\n",
        "    tags=[tag.text for tag in quote.find_all(\"a\",class_=\"tag\")]\n",
        "    print(f\"{i+1}.\\\"{text}\\\"-{author}\")\n",
        "    print(f\" Tags:{','.join(tags)}\\n\")\n",
        "else:\n",
        "  print(f\"Failed to retrieve the webpage. Status Code: {response.status_code}\")"
      ]
    },
    {
      "cell_type": "code",
      "source": [
        "import requests\n",
        "from bs4 import BeautifulSoup\n",
        "city = \"india/kharagpur\"\n",
        "url = f\"https://www.timeanddate.com/weather/{city}\"\n",
        "response=requests.get(url)\n",
        "soup = BeautifulSoup (response.text, 'html.parser')\n",
        "temp = soup.find(\"div\", class_=\"h2\").text.strip() if soup.find(\"div\", class_=\"h2\") else \"N/A\"\n",
        "desc = soup.find(\"p\").text.strip() if soup.find(\"p\") else \"N/A\"\n",
        "print(f\"Current Weather in Kharagpur: {temp} | {desc}\")"
      ],
      "metadata": {
        "colab": {
          "base_uri": "https://localhost:8080/"
        },
        "id": "4mzEHRBnePjM",
        "outputId": "daab980d-e413-4f45-bb79-e34122a13512"
      },
      "execution_count": 7,
      "outputs": [
        {
          "output_type": "stream",
          "name": "stdout",
          "text": [
            "Current Weather in Kharagpur: 25 °C | Sunny.\n"
          ]
        }
      ]
    },
    {
      "cell_type": "code",
      "source": [
        "import requests\n",
        "from bs4 import BeautifulSoup\n",
        "search_url =\"https://www.amazon.in/s?k=motorola+phone&crid=3FPOFUCP8E83M&sprefix=motorola+phone%2Caps%2C244&ref=nb_sb_noss_2\"\n",
        "headers = {\"User-Agent\": \"Mozilla/5.0 (Windows NT 10.0; Win64; x64) AppleWebKit/537.36 (KHTML, like Gecko) Chrome/91.0.4472.124 Safari/537.36\"}\n",
        "response = requests.get(search_url, headers=headers)\n",
        "soup = BeautifulSoup(response.text, \"html.parser\")\n",
        "product = soup.select_one(\"span.a-size-medium\")\n",
        "price = soup.select_one(\"span.a-price-whole\")\n",
        "if product and price:\n",
        "  print(f\"Product: {product.text.strip() }\")\n",
        "  print(f\"Price: Rs. {price.text.strip()}\")\n",
        "else:\n",
        "  print(\"Could not find product details.\")"
      ],
      "metadata": {
        "colab": {
          "base_uri": "https://localhost:8080/"
        },
        "id": "iDKMwq_KhrBW",
        "outputId": "fbcbde5e-dacf-4fc1-fb84-eee604066d28"
      },
      "execution_count": 13,
      "outputs": [
        {
          "output_type": "stream",
          "name": "stdout",
          "text": [
            "Could not find product details.\n"
          ]
        }
      ]
    },
    {
      "cell_type": "code",
      "source": [
        "import requests\n",
        "from bs4 import BeautifulSoup\n",
        "url = \"https://en.wikipedia.org/wiki/List_of_countries_and_dependencies_by_population\"\n",
        "response = requests.get(url, headers=headers)\n",
        "soup = BeautifulSoup(response.text, \"html.parser\")\n",
        "table = soup.find(\"table\", class_= \"wikitable\")\n",
        "for row in table.find_all(\"tr\") [1:6]:\n",
        "  columns = row.find_all(\"td\")\n",
        "  country = columns[1].text.strip()\n",
        "  population = columns [2].text.strip()\n",
        "  print(f\"{country}:{population}\")"
      ],
      "metadata": {
        "colab": {
          "base_uri": "https://localhost:8080/"
        },
        "id": "8yUHrSR2klRL",
        "outputId": "90b3ddd8-e6f5-4c4f-c0cf-d36af11398e5"
      },
      "execution_count": 17,
      "outputs": [
        {
          "output_type": "stream",
          "name": "stdout",
          "text": [
            "World:8,119,000,000\n",
            "China:1,408,280,000\n",
            "1,402,737,000:17.2%\n",
            "United States:340,110,988\n",
            "Indonesia:282,477,584\n"
          ]
        }
      ]
    },
    {
      "cell_type": "code",
      "source": [
        "from IPython.display import display, HTML"
      ],
      "metadata": {
        "id": "NBNr63i-oeir"
      },
      "execution_count": 18,
      "outputs": []
    },
    {
      "cell_type": "code",
      "source": [
        "display (HTML(\"\"\"\n",
        "<p style=\"font-family: verdana\">This is a sample table</p>\n",
        "<table>\n",
        "<tr>\n",
        "<th>Company</th>\n",
        "<th>Contact</th>\n",
        "<th>Country</th>\n",
        "</tr>\n",
        "<tr>\n",
        "<td>Alfreds Futterkiste</td>\n",
        "<td>Maria Anders</td>\n",
        "<td>Germany</td>\n",
        "</tr>\n",
        "<tr>\n",
        "<td>Centro comercial Moctezuma</td>\n",
        "<td>Francisco Chang</td>\n",
        "<td>Mexico</td>\n",
        "</tr>\n",
        "</table>\n",
        "\"\"\"))"
      ],
      "metadata": {
        "colab": {
          "base_uri": "https://localhost:8080/",
          "height": 112
        },
        "id": "WmF0Gld4nJkX",
        "outputId": "f9fb9029-9596-4505-f4ce-419dc8f91f64"
      },
      "execution_count": 19,
      "outputs": [
        {
          "output_type": "display_data",
          "data": {
            "text/plain": [
              "<IPython.core.display.HTML object>"
            ],
            "text/html": [
              "\n",
              "<p style=\"font-family: verdana\">This is a sample table</p>\n",
              "<table>\n",
              "<tr>\n",
              "<th>Company</th>\n",
              "<th>Contact</th>\n",
              "<th>Country</th>\n",
              "</tr>\n",
              "<tr>\n",
              "<td>Alfreds Futterkiste</td>\n",
              "<td>Maria Anders</td>\n",
              "<td>Germany</td>\n",
              "</tr>\n",
              "<tr>\n",
              "<td>Centro comercial Moctezuma</td>\n",
              "<td>Francisco Chang</td>\n",
              "<td>Mexico</td>\n",
              "</tr>\n",
              "</table>\n"
            ]
          },
          "metadata": {}
        }
      ]
    },
    {
      "cell_type": "code",
      "source": [],
      "metadata": {
        "id": "DROp8upBpFqU"
      },
      "execution_count": null,
      "outputs": []
    }
  ]
}